{
 "cells": [
  {
   "cell_type": "markdown",
   "id": "85465aac",
   "metadata": {},
   "source": [
    "# Handling Imbalance Dataset"
   ]
  },
  {
   "cell_type": "markdown",
   "id": "ee7f60e8",
   "metadata": {},
   "source": [
    "  ### Classification->o/p->categories\n",
    "    (Binary Classification)\n",
    "\n",
    "     Ex:1000 Data points\n",
    "              900-yes\n",
    "              100-no\n",
    "              (9:1 ratio,dataset imbalance)\n",
    "              -model will get biased towards 900 datapoints"
   ]
  },
  {
   "cell_type": "markdown",
   "id": "f47a7573",
   "metadata": {},
   "source": [
    "## Techniques:\n",
    "    1-Up Sampling\n",
    "    2-Down Sampling"
   ]
  },
  {
   "cell_type": "code",
   "execution_count": 1,
   "id": "aa9fb42c",
   "metadata": {},
   "outputs": [],
   "source": [
    "import numpy as np\n",
    "import pandas as pd\n",
    "\n",
    "#set the random seed for reproducibility\n",
    "np.random.seed(123) #setting a seed makes sure you get the same random numbers every time you run the code\n",
    "\n",
    "#Create a dataframe with two classes\n",
    "n_samples=1000\n",
    "class_0_ratio=0.9\n",
    "n_class_0=int(n_samples*class_0_ratio)\n",
    "n_class_1=n_samples-n_class_0\n"
   ]
  },
  {
   "cell_type": "code",
   "execution_count": 2,
   "id": "dd46f084",
   "metadata": {},
   "outputs": [
    {
     "data": {
      "text/plain": [
       "(900, 100)"
      ]
     },
     "execution_count": 2,
     "metadata": {},
     "output_type": "execute_result"
    }
   ],
   "source": [
    "n_class_0,n_class_1"
   ]
  },
  {
   "cell_type": "code",
   "execution_count": null,
   "id": "a5c9fc20",
   "metadata": {},
   "outputs": [],
   "source": [
    "##CReate a dataframe with imbalanced dataset\n",
    "class_0=pd.DataFrame({\n",
    "    'feature_1':np.random.normal(loc=0,scale=1,size=n_class_0),\n",
    "    'feature_2':np.random.normal(loc=0,scale=1,size=n_class_0),\n",
    "    'target':[0]*n_class_0\n",
    "})\n",
    "class_1=pd.DataFrame({\n",
    "    'feature_1':np.random.normal(loc=2,scale=1,size=n_class_1),\n",
    "    'feature_2':np.random.normal(loc=2,scale=1,size=n_class_1),\n",
    "    'target':[1]*n_class_1\n",
    "})"
   ]
  }
 ],
 "metadata": {
  "kernelspec": {
   "display_name": "base",
   "language": "python",
   "name": "python3"
  },
  "language_info": {
   "codemirror_mode": {
    "name": "ipython",
    "version": 3
   },
   "file_extension": ".py",
   "mimetype": "text/x-python",
   "name": "python",
   "nbconvert_exporter": "python",
   "pygments_lexer": "ipython3",
   "version": "3.11.4"
  }
 },
 "nbformat": 4,
 "nbformat_minor": 5
}
