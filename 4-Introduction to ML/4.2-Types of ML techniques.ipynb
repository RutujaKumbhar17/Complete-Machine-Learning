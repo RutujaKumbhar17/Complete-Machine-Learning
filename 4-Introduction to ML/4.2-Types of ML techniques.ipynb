{
 "cells": [
  {
   "cell_type": "markdown",
   "id": "9c5d3b7f",
   "metadata": {},
   "source": [
    "Types of ML techniques\n"
   ]
  },
  {
   "cell_type": "markdown",
   "id": "0e55cefb",
   "metadata": {},
   "source": [
    "1-Supervised Learning\n",
    "    -Dependent or output feature\n",
    "    -Continuous->regression\n",
    "    -Categorical->classification\n",
    "\n",
    "Supervised learning algorithms\n",
    "    -Linear Regression\n",
    "    -Ridge and Lasso\n",
    "    -ElasticNet\n",
    "    -Logistic Regression(Classification)\n",
    "    (for both classification and regression)\n",
    "    -Decision Tree\n",
    "    -Random Forest\n",
    "    -AdaBoost\n",
    "    -XgBoost"
   ]
  },
  {
   "cell_type": "markdown",
   "id": "a862d7bb",
   "metadata": {},
   "source": [
    "2- Unsupervised Learning\n",
    "    -clustering(grouping)\n",
    "\n",
    "Unsupervised learning algorithms\n",
    "    -K Means\n",
    "    -Hirerchial Means\n",
    "    -DBScan Clustering\n"
   ]
  },
  {
   "cell_type": "markdown",
   "id": "0e55ad16",
   "metadata": {},
   "source": [
    "3-Reinforcement Learning\n",
    "\n"
   ]
  }
 ],
 "metadata": {
  "kernelspec": {
   "display_name": "base",
   "language": "python",
   "name": "python3"
  },
  "language_info": {
   "name": "python",
   "version": "3.11.4"
  }
 },
 "nbformat": 4,
 "nbformat_minor": 5
}
