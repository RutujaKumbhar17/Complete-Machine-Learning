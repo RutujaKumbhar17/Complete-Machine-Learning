{
 "cells": [
  {
   "cell_type": "markdown",
   "id": "9c5d3b7f",
   "metadata": {},
   "source": [
    "Types of ML techniques\n"
   ]
  },
  {
   "cell_type": "code",
   "execution_count": null,
   "id": "0e55cefb",
   "metadata": {
    "vscode": {
     "languageId": "plaintext"
    }
   },
   "outputs": [],
   "source": [
    "1-Supervised Learning\n",
    "    -Dependent or output feature\n",
    "    -Continuous->regression\n",
    "    -Categorical->classification\n",
    "\n",
    "Supervised learning algorithms\n",
    "    -Linear Regression\n",
    "    -Ridge and Lasso\n",
    "    -ElasticNet\n",
    "    -Logistic Regression(Classification)\n",
    "    (for both classification and regression)\n",
    "    -Decision Tree\n",
    "    -Random Forest\n",
    "    -AdaBoost\n",
    "    -XgBoost"
   ]
  },
  {
   "cell_type": "code",
   "execution_count": null,
   "id": "a862d7bb",
   "metadata": {
    "vscode": {
     "languageId": "plaintext"
    }
   },
   "outputs": [],
   "source": [
    "2- Unsupervised Learning\n",
    "    -clustering(grouping)\n",
    "\n",
    "Unsupervised learning algorithms\n",
    "    -K Means\n",
    "    -Hirerchial Means\n",
    "    -DBScan Clustering\n"
   ]
  },
  {
   "cell_type": "markdown",
   "id": "0e55ad16",
   "metadata": {},
   "source": [
    "3-Reinforcement Learning\n",
    "\n"
   ]
  }
 ],
 "metadata": {
  "language_info": {
   "name": "python"
  }
 },
 "nbformat": 4,
 "nbformat_minor": 5
}
